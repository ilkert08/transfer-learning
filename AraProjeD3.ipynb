{
  "nbformat": 4,
  "nbformat_minor": 0,
  "metadata": {
    "colab": {
      "name": "AraProjeD3.ipynb",
      "provenance": [],
      "collapsed_sections": [],
      "toc_visible": true,
      "include_colab_link": true
    },
    "kernelspec": {
      "name": "python3",
      "display_name": "Python 3"
    },
    "accelerator": "GPU"
  },
  "cells": [
    {
      "cell_type": "markdown",
      "metadata": {
        "id": "view-in-github",
        "colab_type": "text"
      },
      "source": [
        "<a href=\"https://colab.research.google.com/github/ilkert08/TermProject/blob/master/AraProjeD3.ipynb\" target=\"_parent\"><img src=\"https://colab.research.google.com/assets/colab-badge.svg\" alt=\"Open In Colab\"/></a>"
      ]
    },
    {
      "cell_type": "markdown",
      "metadata": {
        "id": "i5cKf10uLv9_"
      },
      "source": [
        "# Importing Libraries"
      ]
    },
    {
      "cell_type": "code",
      "metadata": {
        "id": "u05jItQNLz-2"
      },
      "source": [
        "import tensorflow as tf\n",
        "import numpy as np\n",
        "from keras.preprocessing.image import ImageDataGenerator\n",
        "#from tensorflow.keras.applications.ResNet101 import ResNet101\n",
        "from tensorflow.keras.preprocessing import image\n",
        "#from tensorflow.keras.applications.resnet101 import preprocess_input, decode_predictions"
      ],
      "execution_count": null,
      "outputs": []
    },
    {
      "cell_type": "markdown",
      "metadata": {
        "id": "Zztw-R73-265"
      },
      "source": [
        "# Load Data From Google Drive"
      ]
    },
    {
      "cell_type": "code",
      "metadata": {
        "id": "sPRiKxrv-8BZ",
        "outputId": "5c9ac680-3914-4017-b2ab-921fabcbd033",
        "colab": {
          "base_uri": "https://localhost:8080/"
        }
      },
      "source": [
        "from google.colab import drive\n",
        "drive.mount(\"/content/drive\")"
      ],
      "execution_count": null,
      "outputs": [
        {
          "output_type": "stream",
          "text": [
            "Drive already mounted at /content/drive; to attempt to forcibly remount, call drive.mount(\"/content/drive\", force_remount=True).\n"
          ],
          "name": "stdout"
        }
      ]
    },
    {
      "cell_type": "code",
      "metadata": {
        "id": "w1bHDoTh--Je",
        "outputId": "a22ee7b6-5f5a-43d0-f201-d4e2007f4bb5",
        "colab": {
          "base_uri": "https://localhost:8080/"
        }
      },
      "source": [
        "!ls"
      ],
      "execution_count": null,
      "outputs": [
        {
          "output_type": "stream",
          "text": [
            "drive  sample_data\n"
          ],
          "name": "stdout"
        }
      ]
    },
    {
      "cell_type": "code",
      "metadata": {
        "id": "jOHphj1o_DgW",
        "outputId": "83f30cde-1ffb-437c-db26-b66e08bc3d47",
        "colab": {
          "base_uri": "https://localhost:8080/"
        }
      },
      "source": [
        "!pwd"
      ],
      "execution_count": null,
      "outputs": [
        {
          "output_type": "stream",
          "text": [
            "/content\n"
          ],
          "name": "stdout"
        }
      ]
    },
    {
      "cell_type": "markdown",
      "metadata": {
        "id": "kdxaczQtMPQ8"
      },
      "source": [
        "# Data Preprocess for Training Set"
      ]
    },
    {
      "cell_type": "markdown",
      "metadata": {
        "id": "XWdzLOkh-0Pc"
      },
      "source": [
        ""
      ]
    },
    {
      "cell_type": "code",
      "metadata": {
        "id": "HJsZK0yKMU9R",
        "outputId": "716c0ad6-1a36-485f-d50e-26d6c904008e",
        "colab": {
          "base_uri": "https://localhost:8080/"
        }
      },
      "source": [
        "directory = '/content/drive/My Drive/Ara Proje Verisetleri/Hushem/Set1/fold1/train'\n",
        "train_set=tf.keras.preprocessing.image_dataset_from_directory(\n",
        "    directory,\n",
        "    labels=\"inferred\",\n",
        "    label_mode=\"categorical\",\n",
        "    class_names=None,\n",
        "    batch_size=32,\n",
        "    image_size=(190, 190),\n",
        "    interpolation=\"lanczos5\"\n",
        ")\n",
        "\n"
      ],
      "execution_count": null,
      "outputs": [
        {
          "output_type": "stream",
          "text": [
            "Found 171 files belonging to 4 classes.\n"
          ],
          "name": "stdout"
        }
      ]
    },
    {
      "cell_type": "markdown",
      "metadata": {
        "id": "9j2RMkfNI4AD"
      },
      "source": [
        "# Data Preprocess for Test Set"
      ]
    },
    {
      "cell_type": "code",
      "metadata": {
        "id": "le5ea74_I63K",
        "outputId": "a81be2be-c3cd-4554-b1da-8f254f2480a5",
        "colab": {
          "base_uri": "https://localhost:8080/"
        }
      },
      "source": [
        "directory = '/content/drive/My Drive/Ara Proje Verisetleri/Hushem/Set1/fold1/test'\n",
        "test_set=tf.keras.preprocessing.image_dataset_from_directory(\n",
        "    directory,\n",
        "    labels=\"inferred\",\n",
        "    label_mode=\"categorical\",\n",
        "    class_names=None,\n",
        "    batch_size=32,\n",
        "    image_size=(190, 190),\n",
        "    interpolation=\"lanczos5\"\n",
        ")"
      ],
      "execution_count": null,
      "outputs": [
        {
          "output_type": "stream",
          "text": [
            "Found 45 files belonging to 4 classes.\n"
          ],
          "name": "stdout"
        }
      ]
    },
    {
      "cell_type": "markdown",
      "metadata": {
        "id": "n7rBqDtcAouo"
      },
      "source": [
        "# Creating Layers"
      ]
    },
    {
      "cell_type": "code",
      "metadata": {
        "id": "hypzkO3gA5b4"
      },
      "source": [
        "from keras.layers import Dense,GlobalAveragePooling2D\n",
        "from keras.models import Model\n",
        "\n",
        "#base_model = tf.keras.applications.ResNet101(\n",
        "#     include_top=False, weights='imagenet', classes=4)\n",
        "\n",
        "\n",
        "#print(len(base_model.layers))\n",
        "#x=base_model.output\n",
        "#x=GlobalAveragePooling2D()(x)\n",
        "#preds=Dense(4,activation='softmax')(x) #final layer with softmax activation\n",
        "#model=Model(inputs=base_model.input,outputs=preds)\n",
        "\n",
        "#model.summary()"
      ],
      "execution_count": null,
      "outputs": []
    },
    {
      "cell_type": "markdown",
      "metadata": {
        "id": "Hn_AeMTOajHb"
      },
      "source": [
        "# Seting Pretrained and Untrained Layers"
      ]
    },
    {
      "cell_type": "code",
      "metadata": {
        "id": "5eBnUiO6a0Ck",
        "outputId": "b83b629b-3204-4adb-b27f-b8c77fa6df90",
        "colab": {
          "base_uri": "https://localhost:8080/"
        }
      },
      "source": [
        "import keras\n",
        "print(\"Boyut: \",len(model.layers))\n",
        "#for layer in model.layers[:150]:\n",
        "#    layer.trainable=False\n",
        "#for layer in model.layers[150:]:\n",
        "#    layer.trainable=True\n",
        "#opt = tf.keras.optimizers.SGD(learning_rate=0.001)\n",
        "opt  = tf.keras.optimizers.Adam(learning_rate=0.00001)\n",
        "epochNo = 0\n",
        "for i in range(3):\n",
        "  if i == 0:\n",
        "    epochNo = 10\n",
        "  elif i==1:\n",
        "    epochNo = 50\n",
        "  else:\n",
        "    epochNo = 100    \n",
        "\n",
        "  base_model = tf.keras.applications.ResNet101(\n",
        "     include_top=False, weights='imagenet', classes=4)\n",
        "\n",
        "\n",
        "  print(len(base_model.layers))\n",
        "  x=base_model.output\n",
        "  x=GlobalAveragePooling2D()(x)\n",
        "  preds=Dense(4,activation='softmax')(x) #final layer with softmax activation\n",
        "  model=Model(inputs=base_model.input,outputs=preds)\n",
        "  print(\"\")\n",
        "  print(\"\")\n",
        "  model.compile(optimizer = opt, loss = 'categorical_crossentropy', metrics = ['accuracy', keras.metrics.Precision(), keras.metrics.Recall()])\n",
        "  model.fit(x = train_set, validation_data = test_set, epochs = epochNo)\n"
      ],
      "execution_count": null,
      "outputs": [
        {
          "output_type": "stream",
          "text": [
            "Boyut:  347\n",
            "345\n",
            "\n",
            "\n",
            "Epoch 1/10\n",
            "6/6 [==============================] - ETA: 0s - loss: 1.5377 - accuracy: 0.3041 - precision_4: 0.2778 - recall_4: 0.1170"
          ],
          "name": "stdout"
        }
      ]
    },
    {
      "cell_type": "markdown",
      "metadata": {
        "id": "cQU9qxCya17n"
      },
      "source": [
        "# Making Prediction"
      ]
    },
    {
      "cell_type": "code",
      "metadata": {
        "id": "QKMqsLYFBH2A"
      },
      "source": [
        "img_path = '/content/drive/My Drive/Hushem set1/fold1/train/02_Tapered/image_053.BMP'\n",
        "img = image.load_img(img_path, target_size=(224, 224))\n",
        "x = image.img_to_array(img)\n",
        "x = np.expand_dims(x, axis=0)\n",
        "x = preprocess_input(x)\n",
        "\n",
        "preds = model.predict(x)\n",
        "# decode the results into a list of tuples (class, description, probability)\n",
        "# (one such list for each sample in the batch)"
      ],
      "execution_count": null,
      "outputs": []
    },
    {
      "cell_type": "code",
      "metadata": {
        "id": "p6eM_YXzDJr4"
      },
      "source": [
        "import numpy as np\n",
        "from keras.preprocessing import image\n",
        "test_image = image.load_img('/content/drive/My Drive/Set1_5xAugmented/fold3/test/04_Amorphous/image_032.BMP', target_size = (64,64))\n",
        "test_image = image.img_to_array(test_image)\n",
        "test_image = np.expand_dims(test_image, axis = 0)\n",
        "result = model.predict(test_image)\n",
        "print(np.argmax(result))\n",
        "print(train_set.class_names)"
      ],
      "execution_count": null,
      "outputs": []
    }
  ]
}