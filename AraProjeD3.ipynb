{
  "nbformat": 4,
  "nbformat_minor": 0,
  "metadata": {
    "colab": {
      "name": "AraProjeD3.ipynb",
      "provenance": [],
      "collapsed_sections": [],
      "toc_visible": true,
      "authorship_tag": "ABX9TyMvK5mZkc6jPGDqvxWcUspd",
      "include_colab_link": true
    },
    "kernelspec": {
      "name": "python3",
      "display_name": "Python 3"
    },
    "accelerator": "GPU"
  },
  "cells": [
    {
      "cell_type": "markdown",
      "metadata": {
        "id": "view-in-github",
        "colab_type": "text"
      },
      "source": [
        "<a href=\"https://colab.research.google.com/github/ilkert08/TermProject/blob/master/AraProjeD3.ipynb\" target=\"_parent\"><img src=\"https://colab.research.google.com/assets/colab-badge.svg\" alt=\"Open In Colab\"/></a>"
      ]
    },
    {
      "cell_type": "markdown",
      "metadata": {
        "id": "i5cKf10uLv9_",
        "colab_type": "text"
      },
      "source": [
        "# Importing Libraries"
      ]
    },
    {
      "cell_type": "code",
      "metadata": {
        "id": "u05jItQNLz-2",
        "colab_type": "code",
        "colab": {}
      },
      "source": [
        "import tensorflow as tf\n",
        "import numpy as np\n",
        "from keras.preprocessing.image import ImageDataGenerator\n",
        "#from tensorflow.keras.applications.ResNet101 import ResNet101\n",
        "from tensorflow.keras.preprocessing import image\n",
        "#from tensorflow.keras.applications.resnet101 import preprocess_input, decode_predictions"
      ],
      "execution_count": 26,
      "outputs": []
    },
    {
      "cell_type": "markdown",
      "metadata": {
        "id": "Zztw-R73-265",
        "colab_type": "text"
      },
      "source": [
        "# Load Data From Google Drive"
      ]
    },
    {
      "cell_type": "code",
      "metadata": {
        "id": "sPRiKxrv-8BZ",
        "colab_type": "code",
        "colab": {
          "base_uri": "https://localhost:8080/",
          "height": 34
        },
        "outputId": "e17defaf-5a29-420c-ed33-50c808a46653"
      },
      "source": [
        "from google.colab import drive\n",
        "drive.mount(\"/content/drive\")"
      ],
      "execution_count": 27,
      "outputs": [
        {
          "output_type": "stream",
          "text": [
            "Drive already mounted at /content/drive; to attempt to forcibly remount, call drive.mount(\"/content/drive\", force_remount=True).\n"
          ],
          "name": "stdout"
        }
      ]
    },
    {
      "cell_type": "code",
      "metadata": {
        "id": "w1bHDoTh--Je",
        "colab_type": "code",
        "colab": {
          "base_uri": "https://localhost:8080/",
          "height": 34
        },
        "outputId": "24522dee-5d78-4e7b-ee3c-a9ec73b62468"
      },
      "source": [
        "!ls"
      ],
      "execution_count": 28,
      "outputs": [
        {
          "output_type": "stream",
          "text": [
            "drive  sample_data\n"
          ],
          "name": "stdout"
        }
      ]
    },
    {
      "cell_type": "code",
      "metadata": {
        "id": "jOHphj1o_DgW",
        "colab_type": "code",
        "colab": {
          "base_uri": "https://localhost:8080/",
          "height": 34
        },
        "outputId": "cb57db88-7487-4fb7-ca0a-bba4243537bb"
      },
      "source": [
        "!pwd"
      ],
      "execution_count": 29,
      "outputs": [
        {
          "output_type": "stream",
          "text": [
            "/content\n"
          ],
          "name": "stdout"
        }
      ]
    },
    {
      "cell_type": "markdown",
      "metadata": {
        "id": "kdxaczQtMPQ8",
        "colab_type": "text"
      },
      "source": [
        "# Data Preprocess for Training Set"
      ]
    },
    {
      "cell_type": "markdown",
      "metadata": {
        "id": "XWdzLOkh-0Pc",
        "colab_type": "text"
      },
      "source": [
        ""
      ]
    },
    {
      "cell_type": "code",
      "metadata": {
        "id": "HJsZK0yKMU9R",
        "colab_type": "code",
        "colab": {
          "base_uri": "https://localhost:8080/",
          "height": 34
        },
        "outputId": "17357107-e3b0-43b8-dd94-bde67a2dd9b4"
      },
      "source": [
        "\n",
        "#train_datagen = ImageDataGenerator()\n",
        "#train_set = train_datagen.flow_from_directory('/content/drive/My Drive/Set1_5xAugmented/fold1/train',\n",
        "#                                            target_size = (64, 64),\n",
        "#                                            batch_size = 32,\n",
        "#                                            class_mode = 'categorical')\n",
        "directory = '/content/drive/My Drive/Set1_5xAugmented/fold1/train'\n",
        "train_set=tf.keras.preprocessing.image_dataset_from_directory(\n",
        "    directory,\n",
        "    labels=\"inferred\",\n",
        "    label_mode=\"categorical\",\n",
        "    class_names=None,\n",
        "    batch_size=32,\n",
        "    image_size=(64, 64),\n",
        ")\n",
        "\n"
      ],
      "execution_count": 30,
      "outputs": [
        {
          "output_type": "stream",
          "text": [
            "Found 1026 files belonging to 4 classes.\n"
          ],
          "name": "stdout"
        }
      ]
    },
    {
      "cell_type": "markdown",
      "metadata": {
        "id": "9j2RMkfNI4AD",
        "colab_type": "text"
      },
      "source": [
        "# Data Preprocess for Test Set"
      ]
    },
    {
      "cell_type": "code",
      "metadata": {
        "id": "le5ea74_I63K",
        "colab_type": "code",
        "colab": {
          "base_uri": "https://localhost:8080/",
          "height": 34
        },
        "outputId": "43da912f-f2a9-4147-8acc-10db42ea8bd0"
      },
      "source": [
        "#test_datagen = ImageDataGenerator()\n",
        "#test_set = test_datagen.flow_from_directory('/content/drive/My Drive/Set1_5xAugmented/fold1/test',\n",
        "#                                            target_size = (64, 64),\n",
        "#                                            batch_size = 32,\n",
        "#                                            class_mode = 'categorical')\n",
        "directory = '/content/drive/My Drive/Set1_5xAugmented/fold1/test'\n",
        "test_set=tf.keras.preprocessing.image_dataset_from_directory(\n",
        "    directory,\n",
        "    labels=\"inferred\",\n",
        "    label_mode=\"categorical\",\n",
        "    class_names=None,\n",
        "    batch_size=32,\n",
        "    image_size=(64, 64),\n",
        ")"
      ],
      "execution_count": 31,
      "outputs": [
        {
          "output_type": "stream",
          "text": [
            "Found 45 files belonging to 4 classes.\n"
          ],
          "name": "stdout"
        }
      ]
    },
    {
      "cell_type": "markdown",
      "metadata": {
        "id": "n7rBqDtcAouo",
        "colab_type": "text"
      },
      "source": [
        "# Creating Layers"
      ]
    },
    {
      "cell_type": "code",
      "metadata": {
        "id": "hypzkO3gA5b4",
        "colab_type": "code",
        "colab": {
          "base_uri": "https://localhost:8080/",
          "height": 34
        },
        "outputId": "957bce25-1de7-42c5-b93e-80bf7f73ccd7"
      },
      "source": [
        "from keras.layers import Dense,GlobalAveragePooling2D\n",
        "from keras.models import Model\n",
        "base_model = tf.keras.applications.ResNet101(\n",
        "     include_top=False, weights='imagenet')\n",
        "print(len(base_model.layers))\n",
        "x=base_model.output\n",
        "x=GlobalAveragePooling2D()(x)\n",
        "x=Dense(1024,activation='relu')(x) #we add dense layers so that the model can learn more complex functions and classify for better results.\n",
        "x=Dense(1024,activation='relu')(x) #dense layer 2\n",
        "x=Dense(512,activation='relu')(x) #dense layer 3\n",
        "preds=Dense(4,activation='softmax')(x) #final layer with softmax activation\n",
        "model=Model(inputs=base_model.input,outputs=preds)"
      ],
      "execution_count": 47,
      "outputs": [
        {
          "output_type": "stream",
          "text": [
            "345\n"
          ],
          "name": "stdout"
        }
      ]
    },
    {
      "cell_type": "markdown",
      "metadata": {
        "id": "Hn_AeMTOajHb",
        "colab_type": "text"
      },
      "source": [
        "# Seting Pretrained and Untrained Layers"
      ]
    },
    {
      "cell_type": "code",
      "metadata": {
        "id": "5eBnUiO6a0Ck",
        "colab_type": "code",
        "colab": {
          "base_uri": "https://localhost:8080/",
          "height": 1000
        },
        "outputId": "2943b3ce-d046-4103-c345-9fc993dab867"
      },
      "source": [
        "for layer in model.layers[:10]:\n",
        "    layer.trainable=False\n",
        "for layer in model.layers[10:]:\n",
        "    layer.trainable=True\n",
        "\n",
        "#opt = tf.keras.optimizers.SGD(learning_rate=0.1)\n",
        "model.compile(optimizer = 'adam', loss = 'categorical_crossentropy', metrics = ['accuracy'])\n",
        "model.fit(x = train_set, validation_data = test_set, epochs = 200)\n"
      ],
      "execution_count": 48,
      "outputs": [
        {
          "output_type": "stream",
          "text": [
            "Epoch 1/200\n",
            "33/33 [==============================] - 5s 166ms/step - loss: 1.5109 - accuracy: 0.3733 - val_loss: 2814.8059 - val_accuracy: 0.2444\n",
            "Epoch 2/200\n",
            "33/33 [==============================] - 4s 120ms/step - loss: 1.0792 - accuracy: 0.5312 - val_loss: 1005.4110 - val_accuracy: 0.2667\n",
            "Epoch 3/200\n",
            "33/33 [==============================] - 4s 118ms/step - loss: 0.8831 - accuracy: 0.6121 - val_loss: 182.1416 - val_accuracy: 0.2444\n",
            "Epoch 4/200\n",
            "33/33 [==============================] - 4s 117ms/step - loss: 0.6403 - accuracy: 0.7407 - val_loss: 1903.8281 - val_accuracy: 0.2667\n",
            "Epoch 5/200\n",
            "33/33 [==============================] - 4s 119ms/step - loss: 0.9133 - accuracy: 0.6384 - val_loss: 206.1743 - val_accuracy: 0.2667\n",
            "Epoch 6/200\n",
            "33/33 [==============================] - 4s 117ms/step - loss: 0.6709 - accuracy: 0.7281 - val_loss: 291.4182 - val_accuracy: 0.1556\n",
            "Epoch 7/200\n",
            "33/33 [==============================] - 4s 118ms/step - loss: 0.8311 - accuracy: 0.6355 - val_loss: 2.8736 - val_accuracy: 0.4889\n",
            "Epoch 8/200\n",
            "33/33 [==============================] - 4s 118ms/step - loss: 0.6533 - accuracy: 0.7037 - val_loss: 3.0864 - val_accuracy: 0.6222\n",
            "Epoch 9/200\n",
            "33/33 [==============================] - 4s 117ms/step - loss: 0.7152 - accuracy: 0.7173 - val_loss: 10.7935 - val_accuracy: 0.5556\n",
            "Epoch 10/200\n",
            "33/33 [==============================] - 4s 117ms/step - loss: 0.5016 - accuracy: 0.8051 - val_loss: 142.4929 - val_accuracy: 0.4444\n",
            "Epoch 11/200\n",
            "33/33 [==============================] - 4s 119ms/step - loss: 0.4992 - accuracy: 0.8226 - val_loss: 2153.6199 - val_accuracy: 0.2889\n",
            "Epoch 12/200\n",
            "33/33 [==============================] - 4s 119ms/step - loss: 0.3245 - accuracy: 0.8830 - val_loss: 356.7570 - val_accuracy: 0.4667\n",
            "Epoch 13/200\n",
            "33/33 [==============================] - 4s 118ms/step - loss: 0.5341 - accuracy: 0.7778 - val_loss: 31.9169 - val_accuracy: 0.4000\n",
            "Epoch 14/200\n",
            "33/33 [==============================] - 4s 119ms/step - loss: 0.3056 - accuracy: 0.8869 - val_loss: 226.6938 - val_accuracy: 0.3333\n",
            "Epoch 15/200\n",
            "33/33 [==============================] - 4s 118ms/step - loss: 0.2898 - accuracy: 0.9016 - val_loss: 3019.2756 - val_accuracy: 0.4000\n",
            "Epoch 16/200\n",
            "33/33 [==============================] - 4s 118ms/step - loss: 0.2795 - accuracy: 0.9259 - val_loss: 40652.2539 - val_accuracy: 0.2667\n",
            "Epoch 17/200\n",
            "33/33 [==============================] - 4s 120ms/step - loss: 0.8680 - accuracy: 0.6637 - val_loss: 1632.9688 - val_accuracy: 0.2444\n",
            "Epoch 18/200\n",
            "33/33 [==============================] - 4s 118ms/step - loss: 0.6703 - accuracy: 0.7758 - val_loss: 14.7704 - val_accuracy: 0.2889\n",
            "Epoch 19/200\n",
            "33/33 [==============================] - 4s 119ms/step - loss: 0.5013 - accuracy: 0.8528 - val_loss: 7.2706 - val_accuracy: 0.3111\n",
            "Epoch 20/200\n",
            "33/33 [==============================] - 4s 119ms/step - loss: 0.3313 - accuracy: 0.9006 - val_loss: 5.9472 - val_accuracy: 0.4222\n",
            "Epoch 21/200\n",
            "33/33 [==============================] - 4s 119ms/step - loss: 0.3319 - accuracy: 0.8996 - val_loss: 17.0089 - val_accuracy: 0.3333\n",
            "Epoch 22/200\n",
            "33/33 [==============================] - 4s 117ms/step - loss: 0.3187 - accuracy: 0.9064 - val_loss: 7.1057 - val_accuracy: 0.3778\n",
            "Epoch 23/200\n",
            "33/33 [==============================] - 4s 119ms/step - loss: 0.2322 - accuracy: 0.9327 - val_loss: 2.0262 - val_accuracy: 0.6000\n",
            "Epoch 24/200\n",
            "33/33 [==============================] - 4s 118ms/step - loss: 0.2134 - accuracy: 0.9425 - val_loss: 35.1745 - val_accuracy: 0.6667\n",
            "Epoch 25/200\n",
            "33/33 [==============================] - 4s 118ms/step - loss: 0.1251 - accuracy: 0.9630 - val_loss: 11.0488 - val_accuracy: 0.6444\n",
            "Epoch 26/200\n",
            "33/33 [==============================] - 4s 119ms/step - loss: 0.1366 - accuracy: 0.9630 - val_loss: 4.6825 - val_accuracy: 0.5556\n",
            "Epoch 27/200\n",
            "33/33 [==============================] - 4s 119ms/step - loss: 0.1380 - accuracy: 0.9610 - val_loss: 5.9614 - val_accuracy: 0.6000\n",
            "Epoch 28/200\n",
            "33/33 [==============================] - 4s 119ms/step - loss: 0.0723 - accuracy: 0.9805 - val_loss: 4.0077 - val_accuracy: 0.5778\n",
            "Epoch 29/200\n",
            "33/33 [==============================] - 4s 118ms/step - loss: 0.2322 - accuracy: 0.9425 - val_loss: 4.3258 - val_accuracy: 0.6000\n",
            "Epoch 30/200\n",
            "33/33 [==============================] - 4s 118ms/step - loss: 0.0910 - accuracy: 0.9717 - val_loss: 4.7992 - val_accuracy: 0.6889\n",
            "Epoch 31/200\n",
            "33/33 [==============================] - 4s 119ms/step - loss: 0.0897 - accuracy: 0.9776 - val_loss: 2.4102 - val_accuracy: 0.6667\n",
            "Epoch 32/200\n",
            "33/33 [==============================] - 4s 117ms/step - loss: 0.0931 - accuracy: 0.9747 - val_loss: 3.9402 - val_accuracy: 0.6889\n",
            "Epoch 33/200\n",
            "33/33 [==============================] - 4s 118ms/step - loss: 0.0504 - accuracy: 0.9834 - val_loss: 3.8501 - val_accuracy: 0.6222\n",
            "Epoch 34/200\n",
            "33/33 [==============================] - 4s 118ms/step - loss: 0.2440 - accuracy: 0.9366 - val_loss: 3.2725 - val_accuracy: 0.6667\n",
            "Epoch 35/200\n",
            "33/33 [==============================] - 4s 118ms/step - loss: 0.0671 - accuracy: 0.9834 - val_loss: 7.1807 - val_accuracy: 0.6222\n",
            "Epoch 36/200\n",
            "33/33 [==============================] - 4s 119ms/step - loss: 0.0858 - accuracy: 0.9756 - val_loss: 3.4747 - val_accuracy: 0.6667\n",
            "Epoch 37/200\n",
            "33/33 [==============================] - 4s 119ms/step - loss: 0.0439 - accuracy: 0.9893 - val_loss: 8.0922 - val_accuracy: 0.5333\n",
            "Epoch 38/200\n",
            "33/33 [==============================] - 4s 119ms/step - loss: 0.5789 - accuracy: 0.7700 - val_loss: 9.3569 - val_accuracy: 0.5111\n",
            "Epoch 39/200\n",
            "33/33 [==============================] - 4s 119ms/step - loss: 0.2615 - accuracy: 0.9162 - val_loss: 19.5402 - val_accuracy: 0.6222\n",
            "Epoch 40/200\n",
            "33/33 [==============================] - 4s 118ms/step - loss: 0.1135 - accuracy: 0.9620 - val_loss: 7.2461 - val_accuracy: 0.6444\n",
            "Epoch 41/200\n",
            "33/33 [==============================] - 4s 119ms/step - loss: 0.1540 - accuracy: 0.9561 - val_loss: 3.3324 - val_accuracy: 0.6444\n",
            "Epoch 42/200\n",
            "33/33 [==============================] - 4s 118ms/step - loss: 0.1491 - accuracy: 0.9600 - val_loss: 3.6838 - val_accuracy: 0.4222\n",
            "Epoch 43/200\n",
            "33/33 [==============================] - 4s 119ms/step - loss: 0.0518 - accuracy: 0.9854 - val_loss: 3.2962 - val_accuracy: 0.6000\n",
            "Epoch 44/200\n",
            "33/33 [==============================] - 4s 119ms/step - loss: 0.0431 - accuracy: 0.9922 - val_loss: 3.1026 - val_accuracy: 0.5778\n",
            "Epoch 45/200\n",
            "33/33 [==============================] - 4s 117ms/step - loss: 0.0557 - accuracy: 0.9844 - val_loss: 4.8120 - val_accuracy: 0.5556\n",
            "Epoch 46/200\n",
            "33/33 [==============================] - 4s 118ms/step - loss: 0.0998 - accuracy: 0.9727 - val_loss: 8.1095 - val_accuracy: 0.6000\n",
            "Epoch 47/200\n",
            "33/33 [==============================] - 4s 119ms/step - loss: 0.0482 - accuracy: 0.9883 - val_loss: 9.8158 - val_accuracy: 0.6667\n",
            "Epoch 48/200\n",
            "33/33 [==============================] - 4s 119ms/step - loss: 0.0291 - accuracy: 0.9903 - val_loss: 6.3884 - val_accuracy: 0.6667\n",
            "Epoch 49/200\n",
            "33/33 [==============================] - 4s 120ms/step - loss: 0.0122 - accuracy: 0.9961 - val_loss: 3.5246 - val_accuracy: 0.6667\n",
            "Epoch 50/200\n",
            "33/33 [==============================] - 4s 119ms/step - loss: 0.0475 - accuracy: 0.9903 - val_loss: 3.9559 - val_accuracy: 0.6222\n",
            "Epoch 51/200\n",
            "33/33 [==============================] - 4s 120ms/step - loss: 0.4612 - accuracy: 0.8577 - val_loss: 6.5510 - val_accuracy: 0.6444\n",
            "Epoch 52/200\n",
            "33/33 [==============================] - 4s 120ms/step - loss: 0.1423 - accuracy: 0.9581 - val_loss: 12.7637 - val_accuracy: 0.6444\n",
            "Epoch 53/200\n",
            "33/33 [==============================] - 4s 120ms/step - loss: 0.0639 - accuracy: 0.9844 - val_loss: 6.8805 - val_accuracy: 0.6222\n",
            "Epoch 54/200\n",
            "33/33 [==============================] - 4s 118ms/step - loss: 0.0318 - accuracy: 0.9961 - val_loss: 14.2615 - val_accuracy: 0.6444\n",
            "Epoch 55/200\n",
            "33/33 [==============================] - 4s 119ms/step - loss: 0.0509 - accuracy: 0.9932 - val_loss: 18.5659 - val_accuracy: 0.6444\n",
            "Epoch 56/200\n",
            "33/33 [==============================] - 4s 120ms/step - loss: 0.0642 - accuracy: 0.9834 - val_loss: 2.8842 - val_accuracy: 0.7333\n",
            "Epoch 57/200\n",
            "33/33 [==============================] - 4s 119ms/step - loss: 0.0414 - accuracy: 0.9942 - val_loss: 6.5581 - val_accuracy: 0.7333\n",
            "Epoch 58/200\n",
            "33/33 [==============================] - 4s 119ms/step - loss: 0.0302 - accuracy: 0.9942 - val_loss: 43.0949 - val_accuracy: 0.7111\n",
            "Epoch 59/200\n",
            "33/33 [==============================] - 4s 119ms/step - loss: 0.1005 - accuracy: 0.9756 - val_loss: 5.2582 - val_accuracy: 0.6889\n",
            "Epoch 60/200\n",
            "33/33 [==============================] - 4s 120ms/step - loss: 0.0210 - accuracy: 0.9942 - val_loss: 7.0960 - val_accuracy: 0.7333\n",
            "Epoch 61/200\n",
            "33/33 [==============================] - 4s 119ms/step - loss: 0.1557 - accuracy: 0.9610 - val_loss: 3.7380 - val_accuracy: 0.5556\n",
            "Epoch 62/200\n",
            "33/33 [==============================] - 4s 120ms/step - loss: 0.0366 - accuracy: 0.9893 - val_loss: 6.5209 - val_accuracy: 0.5333\n",
            "Epoch 63/200\n",
            "33/33 [==============================] - 4s 120ms/step - loss: 0.0283 - accuracy: 0.9912 - val_loss: 3.9744 - val_accuracy: 0.6667\n",
            "Epoch 64/200\n",
            "33/33 [==============================] - 4s 124ms/step - loss: 0.0289 - accuracy: 0.9932 - val_loss: 9.1095 - val_accuracy: 0.4444\n",
            "Epoch 65/200\n",
            "33/33 [==============================] - 4s 124ms/step - loss: 0.8491 - accuracy: 0.7398 - val_loss: 5.6687 - val_accuracy: 0.3111\n",
            "Epoch 66/200\n",
            "33/33 [==============================] - 4s 120ms/step - loss: 0.4229 - accuracy: 0.8333 - val_loss: 3.2073 - val_accuracy: 0.3333\n",
            "Epoch 67/200\n",
            "33/33 [==============================] - 4s 118ms/step - loss: 0.2393 - accuracy: 0.9250 - val_loss: 6.0642 - val_accuracy: 0.4222\n",
            "Epoch 68/200\n",
            "33/33 [==============================] - 4s 120ms/step - loss: 0.1514 - accuracy: 0.9600 - val_loss: 5.4279 - val_accuracy: 0.5333\n",
            "Epoch 69/200\n",
            "33/33 [==============================] - 4s 119ms/step - loss: 0.0866 - accuracy: 0.9756 - val_loss: 3.1558 - val_accuracy: 0.6222\n",
            "Epoch 70/200\n",
            "33/33 [==============================] - 4s 120ms/step - loss: 0.0665 - accuracy: 0.9815 - val_loss: 3.0169 - val_accuracy: 0.6444\n",
            "Epoch 71/200\n",
            "33/33 [==============================] - 4s 120ms/step - loss: 0.0713 - accuracy: 0.9786 - val_loss: 6.3750 - val_accuracy: 0.5556\n",
            "Epoch 72/200\n",
            "33/33 [==============================] - 4s 119ms/step - loss: 0.0510 - accuracy: 0.9864 - val_loss: 2.8992 - val_accuracy: 0.6222\n",
            "Epoch 73/200\n",
            "33/33 [==============================] - 4s 120ms/step - loss: 0.0720 - accuracy: 0.9825 - val_loss: 2.6402 - val_accuracy: 0.6889\n",
            "Epoch 74/200\n",
            "33/33 [==============================] - 4s 118ms/step - loss: 0.0640 - accuracy: 0.9873 - val_loss: 4.0244 - val_accuracy: 0.6889\n",
            "Epoch 75/200\n",
            "33/33 [==============================] - 4s 120ms/step - loss: 0.0236 - accuracy: 0.9951 - val_loss: 2.0105 - val_accuracy: 0.7111\n",
            "Epoch 76/200\n",
            "33/33 [==============================] - 4s 119ms/step - loss: 0.2017 - accuracy: 0.9386 - val_loss: 2.1127 - val_accuracy: 0.6667\n",
            "Epoch 77/200\n",
            "33/33 [==============================] - 4s 119ms/step - loss: 0.0343 - accuracy: 0.9922 - val_loss: 8.7292 - val_accuracy: 0.6667\n",
            "Epoch 78/200\n",
            "33/33 [==============================] - 4s 120ms/step - loss: 0.2505 - accuracy: 0.9405 - val_loss: 76.0975 - val_accuracy: 0.3778\n",
            "Epoch 79/200\n",
            "33/33 [==============================] - 4s 119ms/step - loss: 0.1320 - accuracy: 0.9737 - val_loss: 8.9971 - val_accuracy: 0.6000\n",
            "Epoch 80/200\n",
            "33/33 [==============================] - 4s 120ms/step - loss: 0.1560 - accuracy: 0.9600 - val_loss: 4.0069 - val_accuracy: 0.5333\n",
            "Epoch 81/200\n",
            "33/33 [==============================] - 4s 118ms/step - loss: 0.0606 - accuracy: 0.9844 - val_loss: 2.5381 - val_accuracy: 0.6222\n",
            "Epoch 82/200\n",
            "33/33 [==============================] - 4s 121ms/step - loss: 0.0551 - accuracy: 0.9864 - val_loss: 18.2713 - val_accuracy: 0.6667\n",
            "Epoch 83/200\n",
            "33/33 [==============================] - 4s 121ms/step - loss: 0.1361 - accuracy: 0.9708 - val_loss: 7.2807 - val_accuracy: 0.6889\n",
            "Epoch 84/200\n",
            "33/33 [==============================] - 4s 119ms/step - loss: 0.0605 - accuracy: 0.9864 - val_loss: 2.6206 - val_accuracy: 0.6444\n",
            "Epoch 85/200\n",
            "33/33 [==============================] - 4s 121ms/step - loss: 0.0446 - accuracy: 0.9942 - val_loss: 2.4116 - val_accuracy: 0.7111\n",
            "Epoch 86/200\n",
            "33/33 [==============================] - 4s 119ms/step - loss: 0.2880 - accuracy: 0.9201 - val_loss: 2.7779 - val_accuracy: 0.7111\n",
            "Epoch 87/200\n",
            "33/33 [==============================] - 4s 120ms/step - loss: 0.1098 - accuracy: 0.9708 - val_loss: 7.3132 - val_accuracy: 0.7111\n",
            "Epoch 88/200\n",
            "33/33 [==============================] - 4s 121ms/step - loss: 0.4119 - accuracy: 0.8548 - val_loss: 1.3889 - val_accuracy: 0.6444\n",
            "Epoch 89/200\n",
            "33/33 [==============================] - 4s 119ms/step - loss: 0.1781 - accuracy: 0.9308 - val_loss: 4.6768 - val_accuracy: 0.7556\n",
            "Epoch 90/200\n",
            "33/33 [==============================] - 4s 120ms/step - loss: 0.1076 - accuracy: 0.9639 - val_loss: 29.5309 - val_accuracy: 0.7556\n",
            "Epoch 91/200\n",
            "33/33 [==============================] - 4s 121ms/step - loss: 0.0466 - accuracy: 0.9903 - val_loss: 47.9273 - val_accuracy: 0.7556\n",
            "Epoch 92/200\n",
            "33/33 [==============================] - 4s 119ms/step - loss: 0.0992 - accuracy: 0.9737 - val_loss: 1.1778 - val_accuracy: 0.7333\n",
            "Epoch 93/200\n",
            "33/33 [==============================] - 4s 120ms/step - loss: 0.0456 - accuracy: 0.9883 - val_loss: 0.9405 - val_accuracy: 0.7778\n",
            "Epoch 94/200\n",
            "33/33 [==============================] - 4s 119ms/step - loss: 0.0426 - accuracy: 0.9864 - val_loss: 279.6268 - val_accuracy: 0.3556\n",
            "Epoch 95/200\n",
            "33/33 [==============================] - 4s 118ms/step - loss: 0.1940 - accuracy: 0.9444 - val_loss: 712.4446 - val_accuracy: 0.5778\n",
            "Epoch 96/200\n",
            "33/33 [==============================] - 4s 119ms/step - loss: 0.2400 - accuracy: 0.9347 - val_loss: 57.0467 - val_accuracy: 0.7111\n",
            "Epoch 97/200\n",
            "33/33 [==============================] - 4s 119ms/step - loss: 0.0636 - accuracy: 0.9825 - val_loss: 5.7321 - val_accuracy: 0.7778\n",
            "Epoch 98/200\n",
            "33/33 [==============================] - 4s 119ms/step - loss: 0.4617 - accuracy: 0.8704 - val_loss: 1.5366 - val_accuracy: 0.8667\n",
            "Epoch 99/200\n",
            "33/33 [==============================] - 4s 120ms/step - loss: 0.1769 - accuracy: 0.9444 - val_loss: 20.2572 - val_accuracy: 0.8222\n",
            "Epoch 100/200\n",
            "33/33 [==============================] - 4s 121ms/step - loss: 0.1315 - accuracy: 0.9581 - val_loss: 16.6527 - val_accuracy: 0.7556\n",
            "Epoch 101/200\n",
            "33/33 [==============================] - 4s 120ms/step - loss: 0.0810 - accuracy: 0.9834 - val_loss: 9.9795 - val_accuracy: 0.7111\n",
            "Epoch 102/200\n",
            "33/33 [==============================] - 4s 119ms/step - loss: 0.0975 - accuracy: 0.9708 - val_loss: 4.5040 - val_accuracy: 0.6889\n",
            "Epoch 103/200\n",
            "33/33 [==============================] - 4s 119ms/step - loss: 0.0520 - accuracy: 0.9844 - val_loss: 7.0043 - val_accuracy: 0.6889\n",
            "Epoch 104/200\n",
            "33/33 [==============================] - 4s 119ms/step - loss: 0.0620 - accuracy: 0.9805 - val_loss: 3.3274 - val_accuracy: 0.6000\n",
            "Epoch 105/200\n",
            "33/33 [==============================] - 4s 119ms/step - loss: 0.0544 - accuracy: 0.9805 - val_loss: 1.8469 - val_accuracy: 0.6444\n",
            "Epoch 106/200\n",
            "33/33 [==============================] - 4s 119ms/step - loss: 0.0366 - accuracy: 0.9883 - val_loss: 2.0009 - val_accuracy: 0.6444\n",
            "Epoch 107/200\n",
            "33/33 [==============================] - 4s 118ms/step - loss: 0.1283 - accuracy: 0.9600 - val_loss: 2.3138 - val_accuracy: 0.6444\n",
            "Epoch 108/200\n",
            "33/33 [==============================] - 4s 121ms/step - loss: 0.0347 - accuracy: 0.9893 - val_loss: 3.0636 - val_accuracy: 0.6000\n",
            "Epoch 109/200\n",
            "33/33 [==============================] - 4s 119ms/step - loss: 0.0540 - accuracy: 0.9834 - val_loss: 2.5082 - val_accuracy: 0.6667\n",
            "Epoch 110/200\n",
            "33/33 [==============================] - 4s 122ms/step - loss: 0.0338 - accuracy: 0.9903 - val_loss: 2.2079 - val_accuracy: 0.6667\n",
            "Epoch 111/200\n",
            "33/33 [==============================] - 4s 119ms/step - loss: 0.0107 - accuracy: 0.9971 - val_loss: 2.6501 - val_accuracy: 0.6889\n",
            "Epoch 112/200\n",
            "33/33 [==============================] - 4s 121ms/step - loss: 0.0128 - accuracy: 0.9971 - val_loss: 2.9192 - val_accuracy: 0.6889\n",
            "Epoch 113/200\n",
            "33/33 [==============================] - 4s 120ms/step - loss: 0.0842 - accuracy: 0.9756 - val_loss: 2.2262 - val_accuracy: 0.7111\n",
            "Epoch 114/200\n",
            "33/33 [==============================] - 4s 119ms/step - loss: 0.2695 - accuracy: 0.9152 - val_loss: 2.2008 - val_accuracy: 0.7111\n",
            "Epoch 115/200\n",
            "33/33 [==============================] - 4s 119ms/step - loss: 0.0590 - accuracy: 0.9854 - val_loss: 2.4932 - val_accuracy: 0.6667\n",
            "Epoch 116/200\n",
            "33/33 [==============================] - 4s 120ms/step - loss: 0.0303 - accuracy: 0.9873 - val_loss: 3.0615 - val_accuracy: 0.6222\n",
            "Epoch 117/200\n",
            "33/33 [==============================] - 4s 120ms/step - loss: 0.0115 - accuracy: 0.9951 - val_loss: 3.0632 - val_accuracy: 0.6667\n",
            "Epoch 118/200\n",
            "33/33 [==============================] - 4s 121ms/step - loss: 0.0128 - accuracy: 0.9951 - val_loss: 2.9133 - val_accuracy: 0.6667\n",
            "Epoch 119/200\n",
            "33/33 [==============================] - 4s 118ms/step - loss: 0.0083 - accuracy: 0.9971 - val_loss: 3.2258 - val_accuracy: 0.6667\n",
            "Epoch 120/200\n",
            "33/33 [==============================] - 4s 120ms/step - loss: 0.0250 - accuracy: 0.9951 - val_loss: 2.9241 - val_accuracy: 0.6889\n",
            "Epoch 121/200\n",
            "33/33 [==============================] - 4s 120ms/step - loss: 0.0197 - accuracy: 0.9951 - val_loss: 2.4470 - val_accuracy: 0.6667\n",
            "Epoch 122/200\n",
            "33/33 [==============================] - 4s 118ms/step - loss: 0.0332 - accuracy: 0.9903 - val_loss: 2.2519 - val_accuracy: 0.6889\n",
            "Epoch 123/200\n",
            "33/33 [==============================] - 4s 121ms/step - loss: 0.0258 - accuracy: 0.9922 - val_loss: 1.9327 - val_accuracy: 0.7333\n",
            "Epoch 124/200\n",
            "33/33 [==============================] - 4s 119ms/step - loss: 0.0260 - accuracy: 0.9942 - val_loss: 3.8289 - val_accuracy: 0.6444\n",
            "Epoch 125/200\n",
            "33/33 [==============================] - 4s 121ms/step - loss: 0.0076 - accuracy: 0.9971 - val_loss: 5.1237 - val_accuracy: 0.6444\n",
            "Epoch 126/200\n",
            "33/33 [==============================] - 4s 120ms/step - loss: 0.0273 - accuracy: 0.9912 - val_loss: 4.5095 - val_accuracy: 0.6000\n",
            "Epoch 127/200\n",
            "33/33 [==============================] - 4s 121ms/step - loss: 0.0636 - accuracy: 0.9903 - val_loss: 2.9466 - val_accuracy: 0.6667\n",
            "Epoch 128/200\n",
            "33/33 [==============================] - 4s 119ms/step - loss: 0.0464 - accuracy: 0.9912 - val_loss: 2.9859 - val_accuracy: 0.6444\n",
            "Epoch 129/200\n",
            "33/33 [==============================] - 4s 120ms/step - loss: 0.0794 - accuracy: 0.9805 - val_loss: 1.2939 - val_accuracy: 0.7333\n",
            "Epoch 130/200\n",
            "33/33 [==============================] - 4s 119ms/step - loss: 0.0511 - accuracy: 0.9932 - val_loss: 8.5903 - val_accuracy: 0.6444\n",
            "Epoch 131/200\n",
            "33/33 [==============================] - 4s 119ms/step - loss: 0.4831 - accuracy: 0.8548 - val_loss: 2614.8904 - val_accuracy: 0.2444\n",
            "Epoch 132/200\n",
            "33/33 [==============================] - 4s 120ms/step - loss: 0.4060 - accuracy: 0.8704 - val_loss: 105.8284 - val_accuracy: 0.2889\n",
            "Epoch 133/200\n",
            "33/33 [==============================] - 4s 119ms/step - loss: 0.2850 - accuracy: 0.9162 - val_loss: 55.9552 - val_accuracy: 0.3333\n",
            "Epoch 134/200\n",
            "33/33 [==============================] - 4s 123ms/step - loss: 0.1651 - accuracy: 0.9493 - val_loss: 2.4280 - val_accuracy: 0.5556\n",
            "Epoch 135/200\n",
            "33/33 [==============================] - 4s 121ms/step - loss: 0.2511 - accuracy: 0.9327 - val_loss: 2.1809 - val_accuracy: 0.6000\n",
            "Epoch 136/200\n",
            "33/33 [==============================] - 4s 122ms/step - loss: 0.1060 - accuracy: 0.9669 - val_loss: 1.8564 - val_accuracy: 0.6222\n",
            "Epoch 137/200\n",
            "33/33 [==============================] - 4s 119ms/step - loss: 0.0323 - accuracy: 0.9951 - val_loss: 2.2409 - val_accuracy: 0.6222\n",
            "Epoch 138/200\n",
            "33/33 [==============================] - 4s 119ms/step - loss: 0.0318 - accuracy: 0.9893 - val_loss: 2.4443 - val_accuracy: 0.6222\n",
            "Epoch 139/200\n",
            "33/33 [==============================] - 4s 120ms/step - loss: 0.0744 - accuracy: 0.9825 - val_loss: 3.1782 - val_accuracy: 0.6000\n",
            "Epoch 140/200\n",
            "33/33 [==============================] - 4s 118ms/step - loss: 0.0495 - accuracy: 0.9883 - val_loss: 3.5328 - val_accuracy: 0.6444\n",
            "Epoch 141/200\n",
            "33/33 [==============================] - 4s 119ms/step - loss: 0.1598 - accuracy: 0.9698 - val_loss: 1.3165 - val_accuracy: 0.7778\n",
            "Epoch 142/200\n",
            "33/33 [==============================] - 4s 120ms/step - loss: 0.0958 - accuracy: 0.9756 - val_loss: 0.9149 - val_accuracy: 0.7556\n",
            "Epoch 143/200\n",
            "33/33 [==============================] - 4s 118ms/step - loss: 0.0911 - accuracy: 0.9825 - val_loss: 0.4554 - val_accuracy: 0.8222\n",
            "Epoch 144/200\n",
            "33/33 [==============================] - 4s 120ms/step - loss: 0.0464 - accuracy: 0.9873 - val_loss: 1.4033 - val_accuracy: 0.7111\n",
            "Epoch 145/200\n",
            "33/33 [==============================] - 4s 121ms/step - loss: 0.0100 - accuracy: 0.9971 - val_loss: 1.6476 - val_accuracy: 0.7333\n",
            "Epoch 146/200\n",
            "33/33 [==============================] - 4s 121ms/step - loss: 0.0235 - accuracy: 0.9942 - val_loss: 1.9884 - val_accuracy: 0.7111\n",
            "Epoch 147/200\n",
            "33/33 [==============================] - 4s 119ms/step - loss: 0.1694 - accuracy: 0.9532 - val_loss: 14.0326 - val_accuracy: 0.5111\n",
            "Epoch 148/200\n",
            "33/33 [==============================] - 4s 119ms/step - loss: 0.0986 - accuracy: 0.9864 - val_loss: 2.9097 - val_accuracy: 0.4222\n",
            "Epoch 149/200\n",
            "33/33 [==============================] - 4s 119ms/step - loss: 0.0711 - accuracy: 0.9805 - val_loss: 1.3676 - val_accuracy: 0.7333\n",
            "Epoch 150/200\n",
            "33/33 [==============================] - 4s 118ms/step - loss: 0.0609 - accuracy: 0.9844 - val_loss: 2.0424 - val_accuracy: 0.6444\n",
            "Epoch 151/200\n",
            "33/33 [==============================] - 4s 118ms/step - loss: 0.0168 - accuracy: 0.9951 - val_loss: 1.6411 - val_accuracy: 0.7333\n",
            "Epoch 152/200\n",
            "33/33 [==============================] - 4s 119ms/step - loss: 0.0226 - accuracy: 0.9942 - val_loss: 1.6635 - val_accuracy: 0.6889\n",
            "Epoch 153/200\n",
            "33/33 [==============================] - 4s 119ms/step - loss: 0.0208 - accuracy: 0.9942 - val_loss: 1.4867 - val_accuracy: 0.7778\n",
            "Epoch 154/200\n",
            "33/33 [==============================] - 4s 120ms/step - loss: 0.1789 - accuracy: 0.9561 - val_loss: 20.8356 - val_accuracy: 0.6000\n",
            "Epoch 155/200\n",
            "33/33 [==============================] - 4s 120ms/step - loss: 0.7093 - accuracy: 0.7417 - val_loss: 2.1085 - val_accuracy: 0.3556\n",
            "Epoch 156/200\n",
            "33/33 [==============================] - 4s 119ms/step - loss: 0.3667 - accuracy: 0.8635 - val_loss: 1.8432 - val_accuracy: 0.6222\n",
            "Epoch 157/200\n",
            "33/33 [==============================] - 4s 119ms/step - loss: 0.3055 - accuracy: 0.8821 - val_loss: 1.9556 - val_accuracy: 0.5778\n",
            "Epoch 158/200\n",
            "33/33 [==============================] - 4s 120ms/step - loss: 0.2282 - accuracy: 0.9055 - val_loss: 2.7494 - val_accuracy: 0.5778\n",
            "Epoch 159/200\n",
            "33/33 [==============================] - 4s 120ms/step - loss: 0.1873 - accuracy: 0.9415 - val_loss: 3.1784 - val_accuracy: 0.6000\n",
            "Epoch 160/200\n",
            "33/33 [==============================] - 4s 118ms/step - loss: 0.1453 - accuracy: 0.9415 - val_loss: 1.6563 - val_accuracy: 0.6000\n",
            "Epoch 161/200\n",
            "33/33 [==============================] - 4s 120ms/step - loss: 0.1230 - accuracy: 0.9542 - val_loss: 2.8009 - val_accuracy: 0.6000\n",
            "Epoch 162/200\n",
            "33/33 [==============================] - 4s 119ms/step - loss: 0.0841 - accuracy: 0.9717 - val_loss: 3.0842 - val_accuracy: 0.6667\n",
            "Epoch 163/200\n",
            "33/33 [==============================] - 4s 119ms/step - loss: 0.0908 - accuracy: 0.9766 - val_loss: 9.5970 - val_accuracy: 0.6000\n",
            "Epoch 164/200\n",
            "33/33 [==============================] - 4s 120ms/step - loss: 0.0624 - accuracy: 0.9854 - val_loss: 42.7303 - val_accuracy: 0.6444\n",
            "Epoch 165/200\n",
            "33/33 [==============================] - 4s 119ms/step - loss: 0.3482 - accuracy: 0.8938 - val_loss: 1.2428 - val_accuracy: 0.4889\n",
            "Epoch 166/200\n",
            "33/33 [==============================] - 4s 119ms/step - loss: 0.5317 - accuracy: 0.8119 - val_loss: 10.5550 - val_accuracy: 0.4000\n",
            "Epoch 167/200\n",
            "33/33 [==============================] - 4s 119ms/step - loss: 0.2834 - accuracy: 0.8977 - val_loss: 1.6025 - val_accuracy: 0.6000\n",
            "Epoch 168/200\n",
            "33/33 [==============================] - 4s 119ms/step - loss: 0.1711 - accuracy: 0.9405 - val_loss: 9.9901 - val_accuracy: 0.3556\n",
            "Epoch 169/200\n",
            "33/33 [==============================] - 4s 119ms/step - loss: 0.1398 - accuracy: 0.9493 - val_loss: 10.7328 - val_accuracy: 0.2667\n",
            "Epoch 170/200\n",
            "33/33 [==============================] - 4s 118ms/step - loss: 0.1356 - accuracy: 0.9415 - val_loss: 4.6321 - val_accuracy: 0.2444\n",
            "Epoch 171/200\n",
            "33/33 [==============================] - 4s 118ms/step - loss: 0.1704 - accuracy: 0.9318 - val_loss: 3.6340 - val_accuracy: 0.5556\n",
            "Epoch 172/200\n",
            "33/33 [==============================] - 4s 120ms/step - loss: 0.1314 - accuracy: 0.9386 - val_loss: 1.4098 - val_accuracy: 0.6222\n",
            "Epoch 173/200\n",
            "33/33 [==============================] - 4s 119ms/step - loss: 0.0779 - accuracy: 0.9591 - val_loss: 1.4621 - val_accuracy: 0.7556\n",
            "Epoch 174/200\n",
            "33/33 [==============================] - 4s 119ms/step - loss: 0.1085 - accuracy: 0.9581 - val_loss: 1.8505 - val_accuracy: 0.6000\n",
            "Epoch 175/200\n",
            "33/33 [==============================] - 4s 119ms/step - loss: 0.0861 - accuracy: 0.9815 - val_loss: 1.5841 - val_accuracy: 0.6444\n",
            "Epoch 176/200\n",
            "33/33 [==============================] - 4s 119ms/step - loss: 0.1440 - accuracy: 0.9708 - val_loss: 1.6135 - val_accuracy: 0.6667\n",
            "Epoch 177/200\n",
            "33/33 [==============================] - 4s 121ms/step - loss: 0.0542 - accuracy: 0.9815 - val_loss: 1.8784 - val_accuracy: 0.6667\n",
            "Epoch 178/200\n",
            "33/33 [==============================] - 4s 120ms/step - loss: 0.1582 - accuracy: 0.9581 - val_loss: 1.5092 - val_accuracy: 0.6667\n",
            "Epoch 179/200\n",
            "33/33 [==============================] - 4s 118ms/step - loss: 0.0612 - accuracy: 0.9805 - val_loss: 2.0861 - val_accuracy: 0.6889\n",
            "Epoch 180/200\n",
            "33/33 [==============================] - 4s 121ms/step - loss: 0.0716 - accuracy: 0.9815 - val_loss: 2.0621 - val_accuracy: 0.6667\n",
            "Epoch 181/200\n",
            "33/33 [==============================] - 4s 119ms/step - loss: 0.0440 - accuracy: 0.9903 - val_loss: 1.9610 - val_accuracy: 0.6889\n",
            "Epoch 182/200\n",
            "33/33 [==============================] - 4s 120ms/step - loss: 0.0398 - accuracy: 0.9912 - val_loss: 1.7205 - val_accuracy: 0.7556\n",
            "Epoch 183/200\n",
            "33/33 [==============================] - 4s 119ms/step - loss: 0.0386 - accuracy: 0.9903 - val_loss: 2.1054 - val_accuracy: 0.7111\n",
            "Epoch 184/200\n",
            "33/33 [==============================] - 4s 121ms/step - loss: 0.0433 - accuracy: 0.9893 - val_loss: 1.9022 - val_accuracy: 0.6889\n",
            "Epoch 185/200\n",
            "33/33 [==============================] - 4s 118ms/step - loss: 0.0847 - accuracy: 0.9932 - val_loss: 1.9406 - val_accuracy: 0.6889\n",
            "Epoch 186/200\n",
            "33/33 [==============================] - 4s 119ms/step - loss: 0.0938 - accuracy: 0.9844 - val_loss: 1.5575 - val_accuracy: 0.6889\n",
            "Epoch 187/200\n",
            "33/33 [==============================] - 4s 120ms/step - loss: 0.4247 - accuracy: 0.8635 - val_loss: 2.0353 - val_accuracy: 0.6222\n",
            "Epoch 188/200\n",
            "33/33 [==============================] - 4s 119ms/step - loss: 0.1591 - accuracy: 0.9561 - val_loss: 1.2123 - val_accuracy: 0.6889\n",
            "Epoch 189/200\n",
            "33/33 [==============================] - 4s 120ms/step - loss: 0.0759 - accuracy: 0.9873 - val_loss: 1.3599 - val_accuracy: 0.7333\n",
            "Epoch 190/200\n",
            "33/33 [==============================] - 4s 120ms/step - loss: 0.4099 - accuracy: 0.8938 - val_loss: 1.1748 - val_accuracy: 0.7333\n",
            "Epoch 191/200\n",
            "33/33 [==============================] - 4s 120ms/step - loss: 0.1539 - accuracy: 0.9552 - val_loss: 1.3488 - val_accuracy: 0.6889\n",
            "Epoch 192/200\n",
            "33/33 [==============================] - 4s 120ms/step - loss: 0.1032 - accuracy: 0.9688 - val_loss: 1.5319 - val_accuracy: 0.6889\n",
            "Epoch 193/200\n",
            "33/33 [==============================] - 4s 120ms/step - loss: 0.6718 - accuracy: 0.7729 - val_loss: 1.1715 - val_accuracy: 0.6889\n",
            "Epoch 194/200\n",
            "33/33 [==============================] - 4s 119ms/step - loss: 0.4038 - accuracy: 0.8626 - val_loss: 1.2869 - val_accuracy: 0.6444\n",
            "Epoch 195/200\n",
            "33/33 [==============================] - 4s 119ms/step - loss: 0.2274 - accuracy: 0.9269 - val_loss: 1.6151 - val_accuracy: 0.6444\n",
            "Epoch 196/200\n",
            "33/33 [==============================] - 4s 120ms/step - loss: 0.2364 - accuracy: 0.9211 - val_loss: 0.9431 - val_accuracy: 0.7556\n",
            "Epoch 197/200\n",
            "33/33 [==============================] - 4s 119ms/step - loss: 0.1210 - accuracy: 0.9717 - val_loss: 1.5442 - val_accuracy: 0.6889\n",
            "Epoch 198/200\n",
            "33/33 [==============================] - 4s 119ms/step - loss: 0.0575 - accuracy: 0.9786 - val_loss: 2.0351 - val_accuracy: 0.6889\n",
            "Epoch 199/200\n",
            "33/33 [==============================] - 4s 120ms/step - loss: 0.0685 - accuracy: 0.9776 - val_loss: 1.7669 - val_accuracy: 0.7111\n",
            "Epoch 200/200\n",
            "33/33 [==============================] - 4s 119ms/step - loss: 0.0499 - accuracy: 0.9825 - val_loss: 1.6954 - val_accuracy: 0.7333\n"
          ],
          "name": "stdout"
        },
        {
          "output_type": "execute_result",
          "data": {
            "text/plain": [
              "<tensorflow.python.keras.callbacks.History at 0x7f25974c8eb8>"
            ]
          },
          "metadata": {
            "tags": []
          },
          "execution_count": 48
        }
      ]
    },
    {
      "cell_type": "markdown",
      "metadata": {
        "id": "cQU9qxCya17n",
        "colab_type": "text"
      },
      "source": [
        "# Making Prediction"
      ]
    },
    {
      "cell_type": "code",
      "metadata": {
        "id": "QKMqsLYFBH2A",
        "colab_type": "code",
        "colab": {}
      },
      "source": [
        "img_path = '/content/drive/My Drive/Hushem set1/fold1/train/02_Tapered/image_053.BMP'\n",
        "img = image.load_img(img_path, target_size=(224, 224))\n",
        "x = image.img_to_array(img)\n",
        "x = np.expand_dims(x, axis=0)\n",
        "x = preprocess_input(x)\n",
        "\n",
        "preds = model.predict(x)\n",
        "# decode the results into a list of tuples (class, description, probability)\n",
        "# (one such list for each sample in the batch)"
      ],
      "execution_count": null,
      "outputs": []
    },
    {
      "cell_type": "code",
      "metadata": {
        "id": "p6eM_YXzDJr4",
        "colab_type": "code",
        "colab": {}
      },
      "source": [
        "import numpy as np\n",
        "from keras.preprocessing import image\n",
        "test_image = image.load_img('/content/drive/My Drive/Set1_5xAugmented/fold1/test/03_Pyriform/image_003.BMP', target_size = (128,128))\n",
        "test_image = image.img_to_array(test_image)\n",
        "test_image = np.expand_dims(test_image, axis = 0)\n",
        "result = model.predict(test_image)\n",
        "print(np.argmax(result))\n",
        "print(train_set.class_names)"
      ],
      "execution_count": null,
      "outputs": []
    }
  ]
}