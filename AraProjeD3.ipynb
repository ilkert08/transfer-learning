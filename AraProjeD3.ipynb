{
  "nbformat": 4,
  "nbformat_minor": 0,
  "metadata": {
    "colab": {
      "name": "AraProjeD3.ipynb",
      "provenance": [],
      "collapsed_sections": [],
      "toc_visible": true,
      "authorship_tag": "ABX9TyNgdkspUX/aJqSTvPwdBiQn",
      "include_colab_link": true
    },
    "kernelspec": {
      "name": "python3",
      "display_name": "Python 3"
    },
    "accelerator": "GPU"
  },
  "cells": [
    {
      "cell_type": "markdown",
      "metadata": {
        "id": "view-in-github",
        "colab_type": "text"
      },
      "source": [
        "<a href=\"https://colab.research.google.com/github/ilkert08/TermProject/blob/master/AraProjeD3.ipynb\" target=\"_parent\"><img src=\"https://colab.research.google.com/assets/colab-badge.svg\" alt=\"Open In Colab\"/></a>"
      ]
    },
    {
      "cell_type": "markdown",
      "metadata": {
        "id": "i5cKf10uLv9_",
        "colab_type": "text"
      },
      "source": [
        "# Importing Libraries"
      ]
    },
    {
      "cell_type": "code",
      "metadata": {
        "id": "u05jItQNLz-2",
        "colab_type": "code",
        "colab": {}
      },
      "source": [
        "import tensorflow as tf\n",
        "import numpy as np\n",
        "from keras.preprocessing.image import ImageDataGenerator\n",
        "#from tensorflow.keras.applications.ResNet101 import ResNet101\n",
        "from tensorflow.keras.preprocessing import image\n",
        "#from tensorflow.keras.applications.resnet101 import preprocess_input, decode_predictions"
      ],
      "execution_count": null,
      "outputs": []
    },
    {
      "cell_type": "markdown",
      "metadata": {
        "id": "Zztw-R73-265",
        "colab_type": "text"
      },
      "source": [
        "# Load Data From Google Drive"
      ]
    },
    {
      "cell_type": "code",
      "metadata": {
        "id": "sPRiKxrv-8BZ",
        "colab_type": "code",
        "colab": {
          "base_uri": "https://localhost:8080/",
          "height": 34
        },
        "outputId": "b941e161-c731-4a9f-83f5-7eaff236164d"
      },
      "source": [
        "from google.colab import drive\n",
        "drive.mount(\"/content/drive\")"
      ],
      "execution_count": null,
      "outputs": [
        {
          "output_type": "stream",
          "text": [
            "Drive already mounted at /content/drive; to attempt to forcibly remount, call drive.mount(\"/content/drive\", force_remount=True).\n"
          ],
          "name": "stdout"
        }
      ]
    },
    {
      "cell_type": "code",
      "metadata": {
        "id": "w1bHDoTh--Je",
        "colab_type": "code",
        "colab": {
          "base_uri": "https://localhost:8080/",
          "height": 34
        },
        "outputId": "b31218bd-3526-4f03-bea8-9223f0cbb796"
      },
      "source": [
        "!ls"
      ],
      "execution_count": null,
      "outputs": [
        {
          "output_type": "stream",
          "text": [
            "drive  sample_data\n"
          ],
          "name": "stdout"
        }
      ]
    },
    {
      "cell_type": "code",
      "metadata": {
        "id": "jOHphj1o_DgW",
        "colab_type": "code",
        "colab": {
          "base_uri": "https://localhost:8080/",
          "height": 34
        },
        "outputId": "e1973594-8921-4596-bd31-f6b4b407f16b"
      },
      "source": [
        "!pwd"
      ],
      "execution_count": null,
      "outputs": [
        {
          "output_type": "stream",
          "text": [
            "/content\n"
          ],
          "name": "stdout"
        }
      ]
    },
    {
      "cell_type": "markdown",
      "metadata": {
        "id": "kdxaczQtMPQ8",
        "colab_type": "text"
      },
      "source": [
        "# Data Preprocess for Training Set"
      ]
    },
    {
      "cell_type": "markdown",
      "metadata": {
        "id": "XWdzLOkh-0Pc",
        "colab_type": "text"
      },
      "source": [
        ""
      ]
    },
    {
      "cell_type": "code",
      "metadata": {
        "id": "HJsZK0yKMU9R",
        "colab_type": "code",
        "colab": {
          "base_uri": "https://localhost:8080/",
          "height": 34
        },
        "outputId": "4f76d90f-2d58-419e-ee9f-c72d5ada6093"
      },
      "source": [
        "\n",
        "#train_datagen = ImageDataGenerator()\n",
        "#train_set = train_datagen.flow_from_directory('/content/drive/My Drive/Set1_5xAugmented/fold1/train',\n",
        "#                                            target_size = (64, 64),\n",
        "#                                            batch_size = 32,\n",
        "#                                            class_mode = 'categorical')\n",
        "directory = '/content/drive/My Drive/Set1_5xAugmented/fold1/train'\n",
        "train_set=tf.keras.preprocessing.image_dataset_from_directory(\n",
        "    directory,\n",
        "    labels=\"inferred\",\n",
        "    label_mode=\"categorical\",\n",
        "    class_names=None,\n",
        "    batch_size=32,\n",
        "    image_size=(64, 64),\n",
        ")\n",
        "\n"
      ],
      "execution_count": null,
      "outputs": [
        {
          "output_type": "stream",
          "text": [
            "Found 1026 files belonging to 4 classes.\n"
          ],
          "name": "stdout"
        }
      ]
    },
    {
      "cell_type": "markdown",
      "metadata": {
        "id": "9j2RMkfNI4AD",
        "colab_type": "text"
      },
      "source": [
        "# Data Preprocess for Test Set"
      ]
    },
    {
      "cell_type": "code",
      "metadata": {
        "id": "le5ea74_I63K",
        "colab_type": "code",
        "colab": {
          "base_uri": "https://localhost:8080/",
          "height": 34
        },
        "outputId": "ad716ac2-3e1a-4281-ac39-4eb5e6fe6c9a"
      },
      "source": [
        "#test_datagen = ImageDataGenerator()\n",
        "#test_set = test_datagen.flow_from_directory('/content/drive/My Drive/Set1_5xAugmented/fold1/test',\n",
        "#                                            target_size = (64, 64),\n",
        "#                                            batch_size = 32,\n",
        "#                                            class_mode = 'categorical')\n",
        "directory = '/content/drive/My Drive/Set1_5xAugmented/fold1/test'\n",
        "test_set=tf.keras.preprocessing.image_dataset_from_directory(\n",
        "    directory,\n",
        "    labels=\"inferred\",\n",
        "    label_mode=\"categorical\",\n",
        "    class_names=None,\n",
        "    batch_size=32,\n",
        "    image_size=(64, 64),\n",
        ")"
      ],
      "execution_count": null,
      "outputs": [
        {
          "output_type": "stream",
          "text": [
            "Found 45 files belonging to 4 classes.\n"
          ],
          "name": "stdout"
        }
      ]
    },
    {
      "cell_type": "markdown",
      "metadata": {
        "id": "n7rBqDtcAouo",
        "colab_type": "text"
      },
      "source": [
        "# Creating Layers"
      ]
    },
    {
      "cell_type": "code",
      "metadata": {
        "id": "hypzkO3gA5b4",
        "colab_type": "code",
        "colab": {
          "base_uri": "https://localhost:8080/",
          "height": 67
        },
        "outputId": "40efca49-e2c9-4942-82b2-864e26ecae93"
      },
      "source": [
        "from keras.layers import Dense,GlobalAveragePooling2D\n",
        "from keras.models import Model\n",
        "base_model = tf.keras.applications.ResNet101(\n",
        "     include_top=False, weights='imagenet')\n",
        "print(len(base_model.layers))\n",
        "x=base_model.output\n",
        "x=GlobalAveragePooling2D()(x)\n",
        "x=Dense(1024,activation='relu')(x) #we add dense layers so that the model can learn more complex functions and classify for better results.\n",
        "x=Dense(1024,activation='relu')(x) #dense layer 2\n",
        "x=Dense(512,activation='relu')(x) #dense layer 3\n",
        "preds=Dense(4,activation='softmax')(x) #final layer with softmax activation\n",
        "model=Model(inputs=base_model.input,outputs=preds)"
      ],
      "execution_count": null,
      "outputs": [
        {
          "output_type": "stream",
          "text": [
            "Downloading data from https://storage.googleapis.com/tensorflow/keras-applications/resnet/resnet101_weights_tf_dim_ordering_tf_kernels_notop.h5\n",
            "171450368/171446536 [==============================] - 2s 0us/step\n",
            "345\n"
          ],
          "name": "stdout"
        }
      ]
    },
    {
      "cell_type": "markdown",
      "metadata": {
        "id": "Hn_AeMTOajHb",
        "colab_type": "text"
      },
      "source": [
        "# Seting Pretrained and Untrained Layers"
      ]
    },
    {
      "cell_type": "code",
      "metadata": {
        "id": "5eBnUiO6a0Ck",
        "colab_type": "code",
        "colab": {
          "base_uri": "https://localhost:8080/",
          "height": 1000
        },
        "outputId": "415409b7-0a7f-4e66-8001-70fb0dac3663"
      },
      "source": [
        "for layer in model.layers[:200]:\n",
        "    layer.trainable=False\n",
        "for layer in model.layers[200:]:\n",
        "    layer.trainable=True\n",
        "\n",
        "\n",
        "model.compile(optimizer = 'adam', loss = 'categorical_crossentropy', metrics = ['accuracy'])\n",
        "model.fit(x = train_set, validation_data = test_set, epochs = 100)\n"
      ],
      "execution_count": null,
      "outputs": [
        {
          "output_type": "stream",
          "text": [
            "Epoch 1/100\n",
            "33/33 [==============================] - 259s 8s/step - loss: 1.4230 - accuracy: 0.4152 - val_loss: 134.7616 - val_accuracy: 0.2667\n",
            "Epoch 2/100\n",
            "33/33 [==============================] - 3s 89ms/step - loss: 0.8844 - accuracy: 0.6072 - val_loss: 75.6648 - val_accuracy: 0.2667\n",
            "Epoch 3/100\n",
            "33/33 [==============================] - 3s 89ms/step - loss: 0.6826 - accuracy: 0.7739 - val_loss: 36.1266 - val_accuracy: 0.3111\n",
            "Epoch 4/100\n",
            "33/33 [==============================] - 3s 89ms/step - loss: 0.5168 - accuracy: 0.8187 - val_loss: 119.1308 - val_accuracy: 0.3111\n",
            "Epoch 5/100\n",
            "33/33 [==============================] - 3s 88ms/step - loss: 0.4427 - accuracy: 0.8246 - val_loss: 395.0909 - val_accuracy: 0.2667\n",
            "Epoch 6/100\n",
            "33/33 [==============================] - 3s 87ms/step - loss: 0.4220 - accuracy: 0.8743 - val_loss: 20.3944 - val_accuracy: 0.3778\n",
            "Epoch 7/100\n",
            "33/33 [==============================] - 3s 87ms/step - loss: 0.4171 - accuracy: 0.8674 - val_loss: 5.3500 - val_accuracy: 0.5333\n",
            "Epoch 8/100\n",
            "33/33 [==============================] - 3s 88ms/step - loss: 0.2536 - accuracy: 0.9269 - val_loss: 4.8805 - val_accuracy: 0.4444\n",
            "Epoch 9/100\n",
            "33/33 [==============================] - 3s 87ms/step - loss: 0.2332 - accuracy: 0.9230 - val_loss: 6.9954 - val_accuracy: 0.3778\n",
            "Epoch 10/100\n",
            "33/33 [==============================] - 3s 88ms/step - loss: 0.4297 - accuracy: 0.8752 - val_loss: 365.4242 - val_accuracy: 0.3111\n",
            "Epoch 11/100\n",
            "33/33 [==============================] - 3s 89ms/step - loss: 0.3849 - accuracy: 0.9035 - val_loss: 927.4260 - val_accuracy: 0.3111\n",
            "Epoch 12/100\n",
            "33/33 [==============================] - 3s 89ms/step - loss: 0.2299 - accuracy: 0.9269 - val_loss: 104.9853 - val_accuracy: 0.3778\n",
            "Epoch 13/100\n",
            "33/33 [==============================] - 3s 90ms/step - loss: 0.1962 - accuracy: 0.9503 - val_loss: 1269.2834 - val_accuracy: 0.2667\n",
            "Epoch 14/100\n",
            "33/33 [==============================] - 3s 91ms/step - loss: 0.2454 - accuracy: 0.9386 - val_loss: 405.1422 - val_accuracy: 0.3778\n",
            "Epoch 15/100\n",
            "33/33 [==============================] - 3s 89ms/step - loss: 0.2264 - accuracy: 0.9425 - val_loss: 44.8522 - val_accuracy: 0.3778\n",
            "Epoch 16/100\n",
            "33/33 [==============================] - 3s 89ms/step - loss: 0.2409 - accuracy: 0.9298 - val_loss: 1306.6162 - val_accuracy: 0.3333\n",
            "Epoch 17/100\n",
            "33/33 [==============================] - 3s 90ms/step - loss: 0.2645 - accuracy: 0.9327 - val_loss: 15267.5234 - val_accuracy: 0.2667\n",
            "Epoch 18/100\n",
            "33/33 [==============================] - 3s 91ms/step - loss: 0.2206 - accuracy: 0.9396 - val_loss: 1368.9366 - val_accuracy: 0.3333\n",
            "Epoch 19/100\n",
            "33/33 [==============================] - 3s 90ms/step - loss: 0.1845 - accuracy: 0.9610 - val_loss: 475.8525 - val_accuracy: 0.2889\n",
            "Epoch 20/100\n",
            "33/33 [==============================] - 3s 89ms/step - loss: 0.1991 - accuracy: 0.9444 - val_loss: 705.6861 - val_accuracy: 0.3333\n",
            "Epoch 21/100\n",
            "33/33 [==============================] - 3s 91ms/step - loss: 0.0678 - accuracy: 0.9776 - val_loss: 403.1364 - val_accuracy: 0.4000\n",
            "Epoch 22/100\n",
            "33/33 [==============================] - 3s 91ms/step - loss: 0.3620 - accuracy: 0.9288 - val_loss: 48.3745 - val_accuracy: 0.3556\n",
            "Epoch 23/100\n",
            "33/33 [==============================] - 3s 91ms/step - loss: 0.2094 - accuracy: 0.9376 - val_loss: 60.2029 - val_accuracy: 0.3778\n",
            "Epoch 24/100\n",
            "33/33 [==============================] - 3s 89ms/step - loss: 0.3004 - accuracy: 0.9094 - val_loss: 16.4510 - val_accuracy: 0.3778\n",
            "Epoch 25/100\n",
            "33/33 [==============================] - 3s 88ms/step - loss: 0.1697 - accuracy: 0.9396 - val_loss: 3.3724 - val_accuracy: 0.3333\n",
            "Epoch 26/100\n",
            "33/33 [==============================] - 3s 88ms/step - loss: 0.1547 - accuracy: 0.9493 - val_loss: 8.3742 - val_accuracy: 0.4444\n",
            "Epoch 27/100\n",
            "33/33 [==============================] - 3s 89ms/step - loss: 0.1203 - accuracy: 0.9581 - val_loss: 4.3677 - val_accuracy: 0.5111\n",
            "Epoch 28/100\n",
            "33/33 [==============================] - 3s 89ms/step - loss: 0.1359 - accuracy: 0.9513 - val_loss: 11.7158 - val_accuracy: 0.4667\n",
            "Epoch 29/100\n",
            "33/33 [==============================] - 3s 89ms/step - loss: 0.1606 - accuracy: 0.9444 - val_loss: 9.6398 - val_accuracy: 0.4667\n",
            "Epoch 30/100\n",
            "33/33 [==============================] - 3s 89ms/step - loss: 0.1029 - accuracy: 0.9688 - val_loss: 21.6722 - val_accuracy: 0.4222\n",
            "Epoch 31/100\n",
            "33/33 [==============================] - 3s 88ms/step - loss: 0.0824 - accuracy: 0.9737 - val_loss: 321.5035 - val_accuracy: 0.4222\n",
            "Epoch 32/100\n",
            "33/33 [==============================] - 3s 89ms/step - loss: 0.1470 - accuracy: 0.9552 - val_loss: 193.2056 - val_accuracy: 0.3333\n",
            "Epoch 33/100\n",
            "33/33 [==============================] - 3s 88ms/step - loss: 0.2015 - accuracy: 0.9435 - val_loss: 39.3302 - val_accuracy: 0.2889\n",
            "Epoch 34/100\n",
            "33/33 [==============================] - 3s 89ms/step - loss: 0.2121 - accuracy: 0.9308 - val_loss: 6.6683 - val_accuracy: 0.3333\n",
            "Epoch 35/100\n",
            "33/33 [==============================] - 3s 87ms/step - loss: 0.0906 - accuracy: 0.9620 - val_loss: 5.7960 - val_accuracy: 0.3778\n",
            "Epoch 36/100\n",
            "33/33 [==============================] - 3s 89ms/step - loss: 0.0774 - accuracy: 0.9708 - val_loss: 7.3589 - val_accuracy: 0.4000\n",
            "Epoch 37/100\n",
            "33/33 [==============================] - 3s 90ms/step - loss: 0.2296 - accuracy: 0.9123 - val_loss: 2.5946 - val_accuracy: 0.4444\n",
            "Epoch 38/100\n",
            "33/33 [==============================] - 3s 89ms/step - loss: 0.0913 - accuracy: 0.9639 - val_loss: 3.3230 - val_accuracy: 0.4444\n",
            "Epoch 39/100\n",
            "33/33 [==============================] - 3s 88ms/step - loss: 0.2511 - accuracy: 0.9318 - val_loss: 87.4370 - val_accuracy: 0.3556\n",
            "Epoch 40/100\n",
            "33/33 [==============================] - 3s 90ms/step - loss: 0.1241 - accuracy: 0.9581 - val_loss: 3.9139 - val_accuracy: 0.4222\n",
            "Epoch 41/100\n",
            "33/33 [==============================] - 3s 89ms/step - loss: 0.1870 - accuracy: 0.9327 - val_loss: 5.1928 - val_accuracy: 0.3778\n",
            "Epoch 42/100\n",
            "33/33 [==============================] - 3s 90ms/step - loss: 0.0822 - accuracy: 0.9639 - val_loss: 4.5382 - val_accuracy: 0.4889\n",
            "Epoch 43/100\n",
            "33/33 [==============================] - 3s 90ms/step - loss: 0.1766 - accuracy: 0.9376 - val_loss: 2.0718 - val_accuracy: 0.4222\n",
            "Epoch 44/100\n",
            "33/33 [==============================] - 3s 91ms/step - loss: 0.1124 - accuracy: 0.9581 - val_loss: 1.7592 - val_accuracy: 0.5556\n",
            "Epoch 45/100\n",
            "33/33 [==============================] - 3s 89ms/step - loss: 0.0760 - accuracy: 0.9737 - val_loss: 3.3354 - val_accuracy: 0.5556\n",
            "Epoch 46/100\n",
            "33/33 [==============================] - 3s 93ms/step - loss: 0.0822 - accuracy: 0.9756 - val_loss: 2.0474 - val_accuracy: 0.6000\n",
            "Epoch 47/100\n",
            "33/33 [==============================] - 3s 91ms/step - loss: 0.0492 - accuracy: 0.9815 - val_loss: 2.1119 - val_accuracy: 0.6000\n",
            "Epoch 48/100\n",
            "33/33 [==============================] - 3s 90ms/step - loss: 0.0653 - accuracy: 0.9727 - val_loss: 1.9288 - val_accuracy: 0.6444\n",
            "Epoch 49/100\n",
            "33/33 [==============================] - 3s 91ms/step - loss: 0.0798 - accuracy: 0.9737 - val_loss: 7.8594 - val_accuracy: 0.5778\n",
            "Epoch 50/100\n",
            "33/33 [==============================] - 3s 92ms/step - loss: 0.0946 - accuracy: 0.9688 - val_loss: 1.7439 - val_accuracy: 0.6000\n",
            "Epoch 51/100\n",
            "33/33 [==============================] - 3s 91ms/step - loss: 0.1777 - accuracy: 0.9454 - val_loss: 3.3111 - val_accuracy: 0.5333\n",
            "Epoch 52/100\n",
            "33/33 [==============================] - 3s 91ms/step - loss: 0.0979 - accuracy: 0.9620 - val_loss: 2.1968 - val_accuracy: 0.5333\n",
            "Epoch 53/100\n",
            "33/33 [==============================] - 3s 91ms/step - loss: 0.1871 - accuracy: 0.9669 - val_loss: 2.1054 - val_accuracy: 0.6000\n",
            "Epoch 54/100\n",
            "33/33 [==============================] - 3s 91ms/step - loss: 0.1122 - accuracy: 0.9805 - val_loss: 2.6891 - val_accuracy: 0.6000\n",
            "Epoch 55/100\n",
            "33/33 [==============================] - 3s 91ms/step - loss: 0.0416 - accuracy: 0.9903 - val_loss: 3.3856 - val_accuracy: 0.6222\n",
            "Epoch 56/100\n",
            "33/33 [==============================] - 3s 92ms/step - loss: 0.1540 - accuracy: 0.9649 - val_loss: 3.1893 - val_accuracy: 0.5778\n",
            "Epoch 57/100\n",
            "33/33 [==============================] - 3s 91ms/step - loss: 0.0630 - accuracy: 0.9844 - val_loss: 7.5479 - val_accuracy: 0.4444\n",
            "Epoch 58/100\n",
            "33/33 [==============================] - 3s 91ms/step - loss: 0.0684 - accuracy: 0.9825 - val_loss: 2.0803 - val_accuracy: 0.6667\n",
            "Epoch 59/100\n",
            "33/33 [==============================] - 3s 89ms/step - loss: 0.1635 - accuracy: 0.9630 - val_loss: 2.1383 - val_accuracy: 0.6667\n",
            "Epoch 60/100\n",
            "33/33 [==============================] - 3s 89ms/step - loss: 0.0737 - accuracy: 0.9815 - val_loss: 1.5903 - val_accuracy: 0.6889\n",
            "Epoch 61/100\n",
            "33/33 [==============================] - 3s 89ms/step - loss: 0.0412 - accuracy: 0.9893 - val_loss: 1.6982 - val_accuracy: 0.6667\n",
            "Epoch 62/100\n",
            "33/33 [==============================] - 3s 90ms/step - loss: 0.0646 - accuracy: 0.9844 - val_loss: 3.1623 - val_accuracy: 0.5111\n",
            "Epoch 63/100\n",
            "33/33 [==============================] - 3s 89ms/step - loss: 0.0600 - accuracy: 0.9883 - val_loss: 3.7837 - val_accuracy: 0.5778\n",
            "Epoch 64/100\n",
            "33/33 [==============================] - 3s 89ms/step - loss: 0.0660 - accuracy: 0.9873 - val_loss: 3.1167 - val_accuracy: 0.5333\n",
            "Epoch 65/100\n",
            "33/33 [==============================] - 3s 88ms/step - loss: 0.0675 - accuracy: 0.9825 - val_loss: 70.2228 - val_accuracy: 0.5333\n",
            "Epoch 66/100\n",
            "33/33 [==============================] - 3s 89ms/step - loss: 0.0922 - accuracy: 0.9834 - val_loss: 24.2809 - val_accuracy: 0.4667\n",
            "Epoch 67/100\n",
            "33/33 [==============================] - 3s 88ms/step - loss: 0.0471 - accuracy: 0.9932 - val_loss: 2.1786 - val_accuracy: 0.6889\n",
            "Epoch 68/100\n",
            "33/33 [==============================] - 3s 88ms/step - loss: 0.0333 - accuracy: 0.9873 - val_loss: 3.6540 - val_accuracy: 0.5778\n",
            "Epoch 69/100\n",
            "33/33 [==============================] - 3s 89ms/step - loss: 0.0311 - accuracy: 0.9912 - val_loss: 2.1279 - val_accuracy: 0.7111\n",
            "Epoch 70/100\n",
            "33/33 [==============================] - 3s 90ms/step - loss: 0.0383 - accuracy: 0.9922 - val_loss: 1.9674 - val_accuracy: 0.7111\n",
            "Epoch 71/100\n",
            "33/33 [==============================] - 3s 90ms/step - loss: 0.0190 - accuracy: 0.9932 - val_loss: 1.9433 - val_accuracy: 0.7333\n",
            "Epoch 72/100\n",
            "33/33 [==============================] - 3s 89ms/step - loss: 0.0940 - accuracy: 0.9776 - val_loss: 3.1494 - val_accuracy: 0.5333\n",
            "Epoch 73/100\n",
            "33/33 [==============================] - 3s 89ms/step - loss: 0.0710 - accuracy: 0.9912 - val_loss: 3.6214 - val_accuracy: 0.5333\n",
            "Epoch 74/100\n",
            "33/33 [==============================] - 3s 88ms/step - loss: 0.2623 - accuracy: 0.9230 - val_loss: 15.8618 - val_accuracy: 0.2889\n",
            "Epoch 75/100\n",
            "33/33 [==============================] - 3s 88ms/step - loss: 0.1782 - accuracy: 0.9513 - val_loss: 3.8864 - val_accuracy: 0.4667\n",
            "Epoch 76/100\n",
            "33/33 [==============================] - 3s 92ms/step - loss: 0.0925 - accuracy: 0.9727 - val_loss: 5.4121 - val_accuracy: 0.4667\n",
            "Epoch 77/100\n",
            "33/33 [==============================] - 3s 91ms/step - loss: 0.1596 - accuracy: 0.9659 - val_loss: 24.9012 - val_accuracy: 0.5556\n",
            "Epoch 78/100\n",
            "33/33 [==============================] - 3s 91ms/step - loss: 0.0451 - accuracy: 0.9883 - val_loss: 4.6742 - val_accuracy: 0.5333\n",
            "Epoch 79/100\n",
            "33/33 [==============================] - 3s 90ms/step - loss: 0.0693 - accuracy: 0.9815 - val_loss: 7.2774 - val_accuracy: 0.4444\n",
            "Epoch 80/100\n",
            "33/33 [==============================] - 3s 88ms/step - loss: 0.0752 - accuracy: 0.9854 - val_loss: 23.1831 - val_accuracy: 0.5111\n",
            "Epoch 81/100\n",
            "33/33 [==============================] - 3s 87ms/step - loss: 0.1262 - accuracy: 0.9688 - val_loss: 47.9010 - val_accuracy: 0.4667\n",
            "Epoch 82/100\n",
            "33/33 [==============================] - 3s 87ms/step - loss: 0.0383 - accuracy: 0.9912 - val_loss: 19.4946 - val_accuracy: 0.4889\n",
            "Epoch 83/100\n",
            "33/33 [==============================] - 3s 88ms/step - loss: 0.0124 - accuracy: 0.9971 - val_loss: 14.0633 - val_accuracy: 0.5111\n",
            "Epoch 84/100\n",
            "33/33 [==============================] - 3s 88ms/step - loss: 0.0221 - accuracy: 0.9942 - val_loss: 14.4668 - val_accuracy: 0.4444\n",
            "Epoch 85/100\n",
            "33/33 [==============================] - 3s 88ms/step - loss: 0.1046 - accuracy: 0.9834 - val_loss: 30.3505 - val_accuracy: 0.4889\n",
            "Epoch 86/100\n",
            "33/33 [==============================] - 3s 87ms/step - loss: 0.0657 - accuracy: 0.9854 - val_loss: 3.5952 - val_accuracy: 0.5333\n",
            "Epoch 87/100\n",
            "33/33 [==============================] - 3s 87ms/step - loss: 0.0112 - accuracy: 0.9971 - val_loss: 1.7629 - val_accuracy: 0.6889\n",
            "Epoch 88/100\n",
            "33/33 [==============================] - 3s 88ms/step - loss: 0.0161 - accuracy: 0.9942 - val_loss: 1.6911 - val_accuracy: 0.6889\n",
            "Epoch 89/100\n",
            "33/33 [==============================] - 3s 90ms/step - loss: 0.0280 - accuracy: 0.9932 - val_loss: 1.8980 - val_accuracy: 0.7111\n",
            "Epoch 90/100\n",
            "33/33 [==============================] - 3s 88ms/step - loss: 0.0738 - accuracy: 0.9854 - val_loss: 2.4656 - val_accuracy: 0.6222\n",
            "Epoch 91/100\n",
            "33/33 [==============================] - 3s 87ms/step - loss: 0.0191 - accuracy: 0.9922 - val_loss: 2.7365 - val_accuracy: 0.5556\n",
            "Epoch 92/100\n",
            "33/33 [==============================] - 3s 87ms/step - loss: 0.0522 - accuracy: 0.9795 - val_loss: 2.3914 - val_accuracy: 0.6667\n",
            "Epoch 93/100\n",
            "33/33 [==============================] - 3s 87ms/step - loss: 0.0396 - accuracy: 0.9912 - val_loss: 1.2524 - val_accuracy: 0.7556\n",
            "Epoch 94/100\n",
            "33/33 [==============================] - 3s 87ms/step - loss: 0.0494 - accuracy: 0.9912 - val_loss: 1.5345 - val_accuracy: 0.7333\n",
            "Epoch 95/100\n",
            "33/33 [==============================] - 3s 88ms/step - loss: 0.0169 - accuracy: 0.9951 - val_loss: 1.6811 - val_accuracy: 0.7333\n",
            "Epoch 96/100\n",
            "33/33 [==============================] - 3s 89ms/step - loss: 0.0099 - accuracy: 0.9981 - val_loss: 1.6256 - val_accuracy: 0.7778\n",
            "Epoch 97/100\n",
            "33/33 [==============================] - 3s 87ms/step - loss: 0.0456 - accuracy: 0.9922 - val_loss: 1.5860 - val_accuracy: 0.7778\n",
            "Epoch 98/100\n",
            "33/33 [==============================] - 3s 88ms/step - loss: 0.1748 - accuracy: 0.9591 - val_loss: 1.6581 - val_accuracy: 0.6222\n",
            "Epoch 99/100\n",
            "33/33 [==============================] - 3s 89ms/step - loss: 0.0681 - accuracy: 0.9834 - val_loss: 1.4119 - val_accuracy: 0.7333\n",
            "Epoch 100/100\n",
            "33/33 [==============================] - 3s 87ms/step - loss: 0.0775 - accuracy: 0.9922 - val_loss: 1.3990 - val_accuracy: 0.7333\n"
          ],
          "name": "stdout"
        },
        {
          "output_type": "execute_result",
          "data": {
            "text/plain": [
              "<tensorflow.python.keras.callbacks.History at 0x7f282db81a20>"
            ]
          },
          "metadata": {
            "tags": []
          },
          "execution_count": 13
        }
      ]
    },
    {
      "cell_type": "markdown",
      "metadata": {
        "id": "cQU9qxCya17n",
        "colab_type": "text"
      },
      "source": [
        "# Making Prediction"
      ]
    },
    {
      "cell_type": "code",
      "metadata": {
        "id": "QKMqsLYFBH2A",
        "colab_type": "code",
        "colab": {
          "base_uri": "https://localhost:8080/",
          "height": 229
        },
        "outputId": "c6e2de51-fa42-4321-bac3-1497c1db030c"
      },
      "source": [
        "img_path = '/content/drive/My Drive/Hushem set1/fold1/train/02_Tapered/image_053.BMP'\n",
        "img = image.load_img(img_path, target_size=(224, 224))\n",
        "x = image.img_to_array(img)\n",
        "x = np.expand_dims(x, axis=0)\n",
        "x = preprocess_input(x)\n",
        "\n",
        "preds = model.predict(x)\n",
        "# decode the results into a list of tuples (class, description, probability)\n",
        "# (one such list for each sample in the batch)"
      ],
      "execution_count": null,
      "outputs": [
        {
          "output_type": "error",
          "ename": "NameError",
          "evalue": "ignored",
          "traceback": [
            "\u001b[0;31m---------------------------------------------------------------------------\u001b[0m",
            "\u001b[0;31mNameError\u001b[0m                                 Traceback (most recent call last)",
            "\u001b[0;32m<ipython-input-14-eca435f4aaa7>\u001b[0m in \u001b[0;36m<module>\u001b[0;34m()\u001b[0m\n\u001b[1;32m      3\u001b[0m \u001b[0mx\u001b[0m \u001b[0;34m=\u001b[0m \u001b[0mimage\u001b[0m\u001b[0;34m.\u001b[0m\u001b[0mimg_to_array\u001b[0m\u001b[0;34m(\u001b[0m\u001b[0mimg\u001b[0m\u001b[0;34m)\u001b[0m\u001b[0;34m\u001b[0m\u001b[0;34m\u001b[0m\u001b[0m\n\u001b[1;32m      4\u001b[0m \u001b[0mx\u001b[0m \u001b[0;34m=\u001b[0m \u001b[0mnp\u001b[0m\u001b[0;34m.\u001b[0m\u001b[0mexpand_dims\u001b[0m\u001b[0;34m(\u001b[0m\u001b[0mx\u001b[0m\u001b[0;34m,\u001b[0m \u001b[0maxis\u001b[0m\u001b[0;34m=\u001b[0m\u001b[0;36m0\u001b[0m\u001b[0;34m)\u001b[0m\u001b[0;34m\u001b[0m\u001b[0;34m\u001b[0m\u001b[0m\n\u001b[0;32m----> 5\u001b[0;31m \u001b[0mx\u001b[0m \u001b[0;34m=\u001b[0m \u001b[0mpreprocess_input\u001b[0m\u001b[0;34m(\u001b[0m\u001b[0mx\u001b[0m\u001b[0;34m)\u001b[0m\u001b[0;34m\u001b[0m\u001b[0;34m\u001b[0m\u001b[0m\n\u001b[0m\u001b[1;32m      6\u001b[0m \u001b[0;34m\u001b[0m\u001b[0m\n\u001b[1;32m      7\u001b[0m \u001b[0mpreds\u001b[0m \u001b[0;34m=\u001b[0m \u001b[0mmodel\u001b[0m\u001b[0;34m.\u001b[0m\u001b[0mpredict\u001b[0m\u001b[0;34m(\u001b[0m\u001b[0mx\u001b[0m\u001b[0;34m)\u001b[0m\u001b[0;34m\u001b[0m\u001b[0;34m\u001b[0m\u001b[0m\n",
            "\u001b[0;31mNameError\u001b[0m: name 'preprocess_input' is not defined"
          ]
        }
      ]
    },
    {
      "cell_type": "code",
      "metadata": {
        "id": "p6eM_YXzDJr4",
        "colab_type": "code",
        "colab": {
          "base_uri": "https://localhost:8080/",
          "height": 50
        },
        "outputId": "39124576-b6db-4f3d-ae7d-18e7e35ea3ae"
      },
      "source": [
        "import numpy as np\n",
        "from keras.preprocessing import image\n",
        "test_image = image.load_img('/content/drive/My Drive/Set1_5xAugmented/fold1/test/03_Pyriform/image_003.BMP', target_size = (128,128))\n",
        "test_image = image.img_to_array(test_image)\n",
        "test_image = np.expand_dims(test_image, axis = 0)\n",
        "result = model.predict(test_image)\n",
        "print(np.argmax(result))\n",
        "print(train_set.class_names)"
      ],
      "execution_count": null,
      "outputs": [
        {
          "output_type": "stream",
          "text": [
            "3\n",
            "['01_Normal', '02_Tapered', '03_Pyriform', '04_Amorphous']\n"
          ],
          "name": "stdout"
        }
      ]
    }
  ]
}